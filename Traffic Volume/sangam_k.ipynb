{
  "nbformat": 4,
  "nbformat_minor": 0,
  "metadata": {
    "kernelspec": {
      "display_name": "Python 2",
      "language": "python",
      "name": "python2"
    },
    "language_info": {
      "codemirror_mode": {
        "name": "ipython",
        "version": 2
      },
      "file_extension": ".py",
      "mimetype": "text/x-python",
      "name": "python",
      "nbconvert_exporter": "python",
      "pygments_lexer": "ipython2",
      "version": "2.7.15rc1"
    },
    "colab": {
      "name": "sangam-k.ipynb",
      "version": "0.3.2",
      "provenance": [],
      "collapsed_sections": []
    }
  },
  "cells": [
    {
      "cell_type": "markdown",
      "metadata": {
        "id": "WupicFezMOjb",
        "colab_type": "text"
      },
      "source": [
        "The following is a google colab version first step is to load all the requirements\n"
      ]
    },
    {
      "cell_type": "code",
      "metadata": {
        "id": "se8C-eAugZFS",
        "colab_type": "code",
        "trusted": true,
        "colab": {}
      },
      "source": [
        "#from google.colab import files\n",
        "#uploaded = files.upload()"
      ],
      "execution_count": 0,
      "outputs": []
    },
    {
      "cell_type": "markdown",
      "metadata": {
        "id": "El1FRlOAaoFI",
        "colab_type": "text"
      },
      "source": [
        "Import all nessecary liraries and data to variables"
      ]
    },
    {
      "cell_type": "code",
      "metadata": {
        "id": "kSMz7Smbos_T",
        "colab_type": "code",
        "trusted": true,
        "colab": {}
      },
      "source": [
        "import numpy as np\n",
        "import pandas as pd\n",
        "import tensorflow as tf\n",
        "import math\n",
        "import xgboost\n",
        "import seaborn as sns\n",
        "import matplotlib.pyplot as plt\n",
        "from sklearn import tree\n",
        "from sklearn import preprocessing\n",
        "from sklearn.neighbors import KNeighborsRegressor\n",
        "from sklearn.linear_model import LinearRegression\n",
        "from sklearn.model_selection import train_test_split\n",
        "from sklearn.linear_model import Ridge\n",
        "from sklearn.model_selection import cross_val_score, GridSearchCV\n",
        "from sklearn.ensemble import RandomForestRegressor\n",
        "from sklearn.preprocessing import MinMaxScaler\n",
        "import datetime"
      ],
      "execution_count": 0,
      "outputs": []
    },
    {
      "cell_type": "code",
      "metadata": {
        "id": "kZ-o7zZc7BXT",
        "colab_type": "code",
        "colab": {}
      },
      "source": [
        "train = pd.read_csv(\"Train.csv\")\n",
        "test = pd.read_csv(\"Test.csv\")"
      ],
      "execution_count": 0,
      "outputs": []
    },
    {
      "cell_type": "markdown",
      "metadata": {
        "id": "l7Rn2PAEMutA",
        "colab_type": "text"
      },
      "source": [
        "Seperate Date time info of Train and test dataset. Because follow a peak at some specific that implies it is time dependent\n",
        "\n"
      ]
    },
    {
      "cell_type": "code",
      "metadata": {
        "id": "GKX3GsE5gZFi",
        "colab_type": "code",
        "trusted": true,
        "outputId": "8b847c9c-a12a-4226-b395-f322aea6b518",
        "colab": {
          "base_uri": "https://localhost:8080/",
          "height": 309
        }
      },
      "source": [
        "\n",
        "train = train.astype(str).apply(lambda x: x.str.split(':').str[0])\n",
        "train[\"time\"] = train[\"date_time\"].apply(lambda x: x.split(' ')[1])\n",
        "train[\"date\"] = train[\"date_time\"].apply(lambda x: x.split(' ')[0])\n",
        "yr_tr = train[\"date\"].apply(lambda x: x.split('-')[0]).astype(int)\n",
        "mn_tr = train[\"date\"].apply(lambda x: x.split('-')[1]).astype(int)\n",
        "dt_tr = train[\"date\"].apply(lambda x: x.split('-')[2]).astype(int)\n",
        "train[\"day\"] = [datetime.date(x, y, z).strftime(\"%w\") for z, y, x in zip(dt_tr, mn_tr, yr_tr)]\n",
        "test_dati = test[\"date_time\"]\n",
        "test = test.astype(str).apply(lambda x: x.str.split(':').str[0])\n",
        "test[\"time\"] = test[\"date_time\"].apply(lambda x: x.split(' ')[1])\n",
        "test[\"date\"] = test[\"date_time\"].apply(lambda x: x.split(' ')[0])\n",
        "yr_ts = test[\"date\"].apply(lambda x: x.split('-')[0]).astype(int)\n",
        "mn_ts = test[\"date\"].apply(lambda x: x.split('-')[1]).astype(int)\n",
        "dt_ts = test[\"date\"].apply(lambda x: x.split('-')[2]).astype(int)\n",
        "test[\"day\"] = [datetime.date(x, y, z).strftime(\"%w\") for z, y, x in zip(dt_ts, mn_ts, yr_ts)]\n",
        "#view train data\n",
        "train.iloc[5000:].head(5)"
      ],
      "execution_count": 0,
      "outputs": [
        {
          "output_type": "execute_result",
          "data": {
            "text/html": [
              "<div>\n",
              "<style scoped>\n",
              "    .dataframe tbody tr th:only-of-type {\n",
              "        vertical-align: middle;\n",
              "    }\n",
              "\n",
              "    .dataframe tbody tr th {\n",
              "        vertical-align: top;\n",
              "    }\n",
              "\n",
              "    .dataframe thead th {\n",
              "        text-align: right;\n",
              "    }\n",
              "</style>\n",
              "<table border=\"1\" class=\"dataframe\">\n",
              "  <thead>\n",
              "    <tr style=\"text-align: right;\">\n",
              "      <th></th>\n",
              "      <th>date_time</th>\n",
              "      <th>is_holiday</th>\n",
              "      <th>air_pollution_index</th>\n",
              "      <th>humidity</th>\n",
              "      <th>wind_speed</th>\n",
              "      <th>wind_direction</th>\n",
              "      <th>visibility_in_miles</th>\n",
              "      <th>dew_point</th>\n",
              "      <th>temperature</th>\n",
              "      <th>rain_p_h</th>\n",
              "      <th>snow_p_h</th>\n",
              "      <th>clouds_all</th>\n",
              "      <th>weather_type</th>\n",
              "      <th>weather_description</th>\n",
              "      <th>traffic_volume</th>\n",
              "      <th>time</th>\n",
              "      <th>date</th>\n",
              "      <th>day</th>\n",
              "    </tr>\n",
              "  </thead>\n",
              "  <tbody>\n",
              "    <tr>\n",
              "      <th>5000</th>\n",
              "      <td>2013-04-11 14</td>\n",
              "      <td>None</td>\n",
              "      <td>294</td>\n",
              "      <td>37</td>\n",
              "      <td>2</td>\n",
              "      <td>200</td>\n",
              "      <td>8</td>\n",
              "      <td>8</td>\n",
              "      <td>275.89</td>\n",
              "      <td>0.0</td>\n",
              "      <td>0.0</td>\n",
              "      <td>90</td>\n",
              "      <td>Clouds</td>\n",
              "      <td>overcast clouds</td>\n",
              "      <td>4562</td>\n",
              "      <td>14</td>\n",
              "      <td>2013-04-11</td>\n",
              "      <td>4</td>\n",
              "    </tr>\n",
              "    <tr>\n",
              "      <th>5001</th>\n",
              "      <td>2013-04-11 15</td>\n",
              "      <td>None</td>\n",
              "      <td>102</td>\n",
              "      <td>32</td>\n",
              "      <td>2</td>\n",
              "      <td>240</td>\n",
              "      <td>1</td>\n",
              "      <td>1</td>\n",
              "      <td>276.25</td>\n",
              "      <td>0.0</td>\n",
              "      <td>0.0</td>\n",
              "      <td>90</td>\n",
              "      <td>Haze</td>\n",
              "      <td>haze</td>\n",
              "      <td>4797</td>\n",
              "      <td>15</td>\n",
              "      <td>2013-04-11</td>\n",
              "      <td>4</td>\n",
              "    </tr>\n",
              "    <tr>\n",
              "      <th>5002</th>\n",
              "      <td>2013-04-11 16</td>\n",
              "      <td>None</td>\n",
              "      <td>264</td>\n",
              "      <td>28</td>\n",
              "      <td>2</td>\n",
              "      <td>310</td>\n",
              "      <td>6</td>\n",
              "      <td>6</td>\n",
              "      <td>276.18</td>\n",
              "      <td>0.0</td>\n",
              "      <td>0.0</td>\n",
              "      <td>90</td>\n",
              "      <td>Clouds</td>\n",
              "      <td>overcast clouds</td>\n",
              "      <td>5668</td>\n",
              "      <td>16</td>\n",
              "      <td>2013-04-11</td>\n",
              "      <td>4</td>\n",
              "    </tr>\n",
              "    <tr>\n",
              "      <th>5003</th>\n",
              "      <td>2013-04-11 17</td>\n",
              "      <td>None</td>\n",
              "      <td>171</td>\n",
              "      <td>28</td>\n",
              "      <td>2</td>\n",
              "      <td>320</td>\n",
              "      <td>7</td>\n",
              "      <td>7</td>\n",
              "      <td>276.29</td>\n",
              "      <td>0.0</td>\n",
              "      <td>0.0</td>\n",
              "      <td>90</td>\n",
              "      <td>Haze</td>\n",
              "      <td>haze</td>\n",
              "      <td>5029</td>\n",
              "      <td>17</td>\n",
              "      <td>2013-04-11</td>\n",
              "      <td>4</td>\n",
              "    </tr>\n",
              "    <tr>\n",
              "      <th>5004</th>\n",
              "      <td>2013-04-11 18</td>\n",
              "      <td>None</td>\n",
              "      <td>261</td>\n",
              "      <td>28</td>\n",
              "      <td>3</td>\n",
              "      <td>300</td>\n",
              "      <td>2</td>\n",
              "      <td>2</td>\n",
              "      <td>276.2</td>\n",
              "      <td>0.0</td>\n",
              "      <td>0.0</td>\n",
              "      <td>90</td>\n",
              "      <td>Rain</td>\n",
              "      <td>light rain</td>\n",
              "      <td>3803</td>\n",
              "      <td>18</td>\n",
              "      <td>2013-04-11</td>\n",
              "      <td>4</td>\n",
              "    </tr>\n",
              "  </tbody>\n",
              "</table>\n",
              "</div>"
            ],
            "text/plain": [
              "          date_time is_holiday air_pollution_index  ... time        date day\n",
              "5000  2013-04-11 14       None                 294  ...   14  2013-04-11   4\n",
              "5001  2013-04-11 15       None                 102  ...   15  2013-04-11   4\n",
              "5002  2013-04-11 16       None                 264  ...   16  2013-04-11   4\n",
              "5003  2013-04-11 17       None                 171  ...   17  2013-04-11   4\n",
              "5004  2013-04-11 18       None                 261  ...   18  2013-04-11   4\n",
              "\n",
              "[5 rows x 18 columns]"
            ]
          },
          "metadata": {
            "tags": []
          },
          "execution_count": 7
        }
      ]
    },
    {
      "cell_type": "code",
      "metadata": {
        "id": "nnCH9dQ9gZFx",
        "colab_type": "code",
        "trusted": true,
        "colab": {}
      },
      "source": [
        "#view test data\n",
        "test.head()"
      ],
      "execution_count": 0,
      "outputs": []
    },
    {
      "cell_type": "markdown",
      "metadata": {
        "id": "aNLgRPw_a9AC",
        "colab_type": "text"
      },
      "source": [
        "#Preprocessing"
      ]
    },
    {
      "cell_type": "markdown",
      "metadata": {
        "id": "HxCBVZivbEd5",
        "colab_type": "text"
      },
      "source": [
        "Seperate the input and output variables and clean some unnessecary collummns for train and test data"
      ]
    },
    {
      "cell_type": "code",
      "metadata": {
        "id": "cHSDENUhgZF-",
        "colab_type": "code",
        "trusted": true,
        "colab": {}
      },
      "source": [
        "train_y = train.pop(\"traffic_volume\")\n",
        "train = train.drop([\"weather_type\", \"weather_description\", \"dew_point\", \"date_time\", \"date\"], axis=1)\n",
        "#test_dati = test[\"date_time\"]\n",
        "test = test.drop([\"weather_type\", \"weather_description\", \"dew_point\", \"date_time\", \"date\"], axis=1)"
      ],
      "execution_count": 0,
      "outputs": []
    },
    {
      "cell_type": "markdown",
      "metadata": {
        "id": "LBVmUiwjNLSt",
        "colab_type": "text"
      },
      "source": [
        "Add holiday effect and normalize data"
      ]
    },
    {
      "cell_type": "code",
      "metadata": {
        "id": "brB2PsaF2YWu",
        "colab_type": "code",
        "colab": {}
      },
      "source": [
        "train.loc[train.is_holiday == 'None', 'is_holiday'] = 0\n",
        "train.loc[train.is_holiday != 0, 'is_holiday'] = 1\n",
        "test.loc[test.is_holiday == 'None', 'is_holiday'] = 0\n",
        "test.loc[test.is_holiday != 0, 'is_holiday'] = 1\n",
        "tr_col = train.columns\n",
        "ts_col = test.columns\n",
        "#train['air_pollution_index'] = 'None', 'is_holiday'] = 0\n",
        "#test.loc[test.is_holiday != 0, 'is_holiday'] = 1\n",
        "train = preprocessing.normalize(train)\n",
        "test = preprocessing.normalize(test)\n",
        "train = pd.DataFrame(data=train, columns=tr_col)\n",
        "test = pd.DataFrame(data=test, columns=ts_col)\n"
      ],
      "execution_count": 0,
      "outputs": []
    },
    {
      "cell_type": "code",
      "metadata": {
        "id": "Y2DebD6xgZGF",
        "colab_type": "code",
        "trusted": true,
        "colab": {}
      },
      "source": [
        "\n",
        "train.head()"
      ],
      "execution_count": 0,
      "outputs": []
    },
    {
      "cell_type": "code",
      "metadata": {
        "id": "OYRTJZOiJABc",
        "colab_type": "code",
        "colab": {}
      },
      "source": [
        "test.head()"
      ],
      "execution_count": 0,
      "outputs": []
    },
    {
      "cell_type": "code",
      "metadata": {
        "id": "QZqpAvYagZGO",
        "colab_type": "code",
        "trusted": true,
        "colab": {}
      },
      "source": [
        "#x_train, x_test, y_train, y_test = train_test_split(train, train_y, test_size =0.1)\n",
        "x_train = train\n",
        "y_train = train_y"
      ],
      "execution_count": 0,
      "outputs": []
    },
    {
      "cell_type": "code",
      "metadata": {
        "id": "xFy3eV8BgZGU",
        "colab_type": "code",
        "trusted": true,
        "colab": {}
      },
      "source": [
        "#Check Pearson Correlation\n",
        "colormap = plt.cm.RdBu\n",
        "plt.figure(figsize=(14,12))\n",
        "plt.title('Pearson Correlation of Features', y=1.05, size=15)\n",
        "sns.heatmap(train.astype(float).corr(),linewidths=0.1,vmax=1.0, \n",
        "            square=True, cmap=colormap, linecolor='white', annot=True)"
      ],
      "execution_count": 0,
      "outputs": []
    },
    {
      "cell_type": "code",
      "metadata": {
        "id": "teSOHrd2gZGf",
        "colab_type": "code",
        "trusted": true,
        "colab": {}
      },
      "source": [
        "'''knr = KNeighborsRegressor(n_neighbors=5)\n",
        "dtr = tree.DecisionTreeRegressor(max_depth = 5)\n",
        "r = Ridge(alpha=0.5)\n",
        "#try support vector machine\n",
        "\n",
        "\n",
        "knr.fit(x_train, y_train)\n",
        "knr_tr = np.round(knr.predict(x_train))\n",
        "print(knr_tr)\n",
        "knr_st = knr.predict(x_test)\n",
        "dtr.fit(x_train, y_train) \n",
        "dtr_tr = dtr.predict(x_train)\n",
        "dtr_st = dtr.predict(x_test)\n",
        "lr.fit(x_train, y_train)\n",
        "lr_tr = np.round(lr.predict(x_train))\n",
        "lr_st = lr.predict(x_test)\n",
        "\n",
        "\n",
        "x_train = np.concatenate((knr_tr), (lr_tr))\n",
        "x_test = np.concatenate(knr_st, lr_st)'''\n",
        "\n",
        "lr = GridSearchCV(\n",
        "        estimator=RandomForestRegressor(),\n",
        "        param_grid={\n",
        "            'max_depth': range(3,10),\n",
        "            'n_estimators': (10, 50, 500, 1000),\n",
        "        },\n",
        "        cv=5, scoring='neg_mean_squared_error', verbose=0,n_jobs=-1)\n",
        "\n",
        "\n",
        "model = lr.fit(x_train, y_train)\n"
      ],
      "execution_count": 0,
      "outputs": []
    },
    {
      "cell_type": "code",
      "metadata": {
        "id": "6pTdogDsgZGq",
        "colab_type": "code",
        "trusted": true,
        "colab": {}
      },
      "source": [
        "#plt.figure(figsize=(30,5))\n",
        "#plt.scatter(train.columns.values, importance, s = np.pi*15)\n",
        "best_params = model.best_params_\n",
        "    \n",
        "rfr = RandomForestRegressor(max_depth=best_params[\"max_depth\"], n_estimators=best_params[\"n_estimators\"], random_state=False, verbose=False)"
      ],
      "execution_count": 0,
      "outputs": []
    },
    {
      "cell_type": "code",
      "metadata": {
        "id": "g6ikl8JIgZG6",
        "colab_type": "code",
        "trusted": true,
        "colab": {}
      },
      "source": [
        "test_res = (lr.predict(x_test))\n",
        "#error = model.score(x_test, y_test)\n",
        "error = cross_val_score(rfr, x_train, y_train, cv=10, scoring='neg_mean_absolute_error')\n",
        "print(error)"
      ],
      "execution_count": 0,
      "outputs": []
    },
    {
      "cell_type": "code",
      "metadata": {
        "id": "XVXo_kxIgZHF",
        "colab_type": "code",
        "trusted": true,
        "colab": {}
      },
      "source": [
        "result = list((lr.predict(test)))"
      ],
      "execution_count": 0,
      "outputs": []
    },
    {
      "cell_type": "code",
      "metadata": {
        "trusted": true,
        "id": "epWIYpnpqi8G",
        "colab_type": "code",
        "colab": {}
      },
      "source": [
        "results = pd.DataFrame({'date_time': test_dati,'traffic_volume': result})\n",
        "results.head()"
      ],
      "execution_count": 0,
      "outputs": []
    },
    {
      "cell_type": "code",
      "metadata": {
        "trusted": true,
        "id": "uo8v68Jhqi8I",
        "colab_type": "code",
        "colab": {}
      },
      "source": [
        "results.to_csv('predict.csv', index=False)"
      ],
      "execution_count": 0,
      "outputs": []
    },
    {
      "cell_type": "code",
      "metadata": {
        "id": "KWVU6qIjqwgi",
        "colab_type": "code",
        "colab": {}
      },
      "source": [
        "from google.colab import files\n",
        "files.download('predict.csv')"
      ],
      "execution_count": 0,
      "outputs": []
    }
  ]
}